{
  "nbformat": 4,
  "nbformat_minor": 0,
  "metadata": {
    "colab": {
      "provenance": [],
      "gpuType": "T4"
    },
    "kernelspec": {
      "name": "python3",
      "display_name": "Python 3"
    },
    "language_info": {
      "name": "python"
    },
    "accelerator": "GPU"
  },
  "cells": [
    {
      "cell_type": "code",
      "execution_count": 1,
      "metadata": {
        "colab": {
          "base_uri": "https://localhost:8080/"
        },
        "collapsed": true,
        "id": "ON4Q87YwaHYn",
        "outputId": "b89be16d-846c-4449-978d-6c6d6040d129"
      },
      "outputs": [
        {
          "output_type": "stream",
          "name": "stdout",
          "text": [
            "Columns:\n",
            "Index(['time', 'btc__current_supply_native_units', 'btc__market_cap_usd',\n",
            "       'btc__usd_4_00pm_new_york_price__index_value',\n",
            "       'btc__usd_11_00am_london_price__index_value',\n",
            "       'eth__current_supply_native_units', 'eth__market_cap_usd',\n",
            "       'eth__usd_11_00am_london_price__index_value',\n",
            "       'eth__usd_4_00pm_new_york_price__index_value',\n",
            "       'usdc__usd_4_00pm_new_york_price__index_value',\n",
            "       'usdc__usd_11_00am_london_price__index_value',\n",
            "       'usdc__current_supply_native_units', 'usdc__market_cap_usd',\n",
            "       'usdt__usd_4_00pm_new_york_price__index_value',\n",
            "       'usdt__usd_11_00am_london_price__index_value',\n",
            "       'xrp__current_supply_native_units',\n",
            "       'xrp__usd_11_00am_london_price__index_value',\n",
            "       'xrp__usd_4_00pm_new_york_price__index_value', 'xrp__market_cap_usd',\n",
            "       'ada__current_supply_native_units',\n",
            "       'ada__usd_11_00am_london_price__index_value',\n",
            "       'ada__usd_4_00pm_new_york_price__index_value', 'ada__market_cap_usd',\n",
            "       'sol__market_cap_estimated_usd',\n",
            "       'sol__usd_11_00am_london_price__index_value',\n",
            "       'sol__usd_4_00pm_new_york_price__index_value',\n",
            "       'doge__usd_4_00pm_new_york_price__index_value',\n",
            "       'doge__usd_11_00am_london_price__index_value',\n",
            "       'doge__current_supply_native_units', 'doge__market_cap_usd',\n",
            "       'trx__market_cap_usd', 'trx__current_supply_native_units',\n",
            "       'trx__usd_4_00pm_new_york_price__index_value',\n",
            "       'trx__usd_11_00am_london_price__index_value'],\n",
            "      dtype='object')\n",
            "\n",
            "Datatypes:\n",
            "time                                             object\n",
            "btc__current_supply_native_units                float64\n",
            "btc__market_cap_usd                             float64\n",
            "btc__usd_4_00pm_new_york_price__index_value     float64\n",
            "btc__usd_11_00am_london_price__index_value      float64\n",
            "eth__current_supply_native_units                float64\n",
            "eth__market_cap_usd                             float64\n",
            "eth__usd_11_00am_london_price__index_value      float64\n",
            "eth__usd_4_00pm_new_york_price__index_value     float64\n",
            "usdc__usd_4_00pm_new_york_price__index_value    float64\n",
            "usdc__usd_11_00am_london_price__index_value     float64\n",
            "usdc__current_supply_native_units               float64\n",
            "usdc__market_cap_usd                            float64\n",
            "usdt__usd_4_00pm_new_york_price__index_value    float64\n",
            "usdt__usd_11_00am_london_price__index_value     float64\n",
            "xrp__current_supply_native_units                float64\n",
            "xrp__usd_11_00am_london_price__index_value      float64\n",
            "xrp__usd_4_00pm_new_york_price__index_value     float64\n",
            "xrp__market_cap_usd                             float64\n",
            "ada__current_supply_native_units                float64\n",
            "ada__usd_11_00am_london_price__index_value      float64\n",
            "ada__usd_4_00pm_new_york_price__index_value     float64\n",
            "ada__market_cap_usd                             float64\n",
            "sol__market_cap_estimated_usd                   float64\n",
            "sol__usd_11_00am_london_price__index_value      float64\n",
            "sol__usd_4_00pm_new_york_price__index_value     float64\n",
            "doge__usd_4_00pm_new_york_price__index_value    float64\n",
            "doge__usd_11_00am_london_price__index_value     float64\n",
            "doge__current_supply_native_units               float64\n",
            "doge__market_cap_usd                            float64\n",
            "trx__market_cap_usd                             float64\n",
            "trx__current_supply_native_units                float64\n",
            "trx__usd_4_00pm_new_york_price__index_value     float64\n",
            "trx__usd_11_00am_london_price__index_value      float64\n",
            "dtype: object\n",
            "\n",
            "First 5 rows:\n",
            "         time  btc__current_supply_native_units  btc__market_cap_usd  \\\n",
            "0  02-01-2019                       17459367.33         6.806006e+10   \n",
            "1  03-01-2019                       17461304.83         6.608036e+10   \n",
            "2  04-01-2019                       17463167.33         6.684070e+10   \n",
            "3  05-01-2019                       17465204.83         6.634357e+10   \n",
            "4  06-01-2019                       17466967.33         7.067124e+10   \n",
            "\n",
            "   btc__usd_4_00pm_new_york_price__index_value  \\\n",
            "0                                  3859.533923   \n",
            "1                                  3793.669134   \n",
            "2                                  3772.068662   \n",
            "3                                  3837.680372   \n",
            "4                                  4048.197520   \n",
            "\n",
            "   btc__usd_11_00am_london_price__index_value  \\\n",
            "0                                 3800.433515   \n",
            "1                                 3840.217480   \n",
            "2                                 3788.279468   \n",
            "3                                 3824.790448   \n",
            "4                                 3813.606020   \n",
            "\n",
            "   eth__current_supply_native_units  eth__market_cap_usd  \\\n",
            "0                       104161888.1         1.608534e+10   \n",
            "1                       104179821.4         1.532090e+10   \n",
            "2                       104197653.3         1.598834e+10   \n",
            "3                       104215675.4         1.608066e+10   \n",
            "4                       104233482.7         1.625420e+10   \n",
            "\n",
            "   eth__usd_11_00am_london_price__index_value  \\\n",
            "0                                  147.806452   \n",
            "1                                  149.392250   \n",
            "2                                  151.858626   \n",
            "3                                  155.105978   \n",
            "4                                  152.591493   \n",
            "\n",
            "   eth__usd_4_00pm_new_york_price__index_value  \\\n",
            "0                                   151.546995   \n",
            "1                                   147.768535   \n",
            "2                                   149.744560   \n",
            "3                                   156.859161   \n",
            "4                                   155.963457   \n",
            "\n",
            "   usdc__usd_4_00pm_new_york_price__index_value  ...  \\\n",
            "0                                      0.999707  ...   \n",
            "1                                      1.000493  ...   \n",
            "2                                      0.998847  ...   \n",
            "3                                      1.000231  ...   \n",
            "4                                      0.999774  ...   \n",
            "\n",
            "   sol__usd_11_00am_london_price__index_value  \\\n",
            "0                                         NaN   \n",
            "1                                         NaN   \n",
            "2                                         NaN   \n",
            "3                                         NaN   \n",
            "4                                         NaN   \n",
            "\n",
            "   sol__usd_4_00pm_new_york_price__index_value  \\\n",
            "0                                          NaN   \n",
            "1                                          NaN   \n",
            "2                                          NaN   \n",
            "3                                          NaN   \n",
            "4                                          NaN   \n",
            "\n",
            "   doge__usd_4_00pm_new_york_price__index_value  \\\n",
            "0                                      0.002364   \n",
            "1                                      0.002305   \n",
            "2                                      0.002222   \n",
            "3                                      0.002255   \n",
            "4                                      0.002313   \n",
            "\n",
            "   doge__usd_11_00am_london_price__index_value  \\\n",
            "0                                     0.002352   \n",
            "1                                     0.002339   \n",
            "2                                     0.002255   \n",
            "3                                     0.002254   \n",
            "4                                     0.002247   \n",
            "\n",
            "   doge__current_supply_native_units  doge__market_cap_usd  \\\n",
            "0                       1.175920e+11           277859888.7   \n",
            "1                       1.176060e+11           269667458.1   \n",
            "2                       1.176200e+11           267966412.8   \n",
            "3                       1.176340e+11           265926767.3   \n",
            "4                       1.176470e+11           267906092.0   \n",
            "\n",
            "   trx__market_cap_usd  trx__current_supply_native_units  \\\n",
            "0         2.006026e+09                      1.000000e+11   \n",
            "1         1.980556e+09                      1.000000e+11   \n",
            "2         2.133738e+09                      1.000000e+11   \n",
            "3         2.202745e+09                      1.000000e+11   \n",
            "4         2.282624e+09                      1.000000e+11   \n",
            "\n",
            "   trx__usd_4_00pm_new_york_price__index_value  \\\n",
            "0                                     0.019749   \n",
            "1                                     0.020008   \n",
            "2                                     0.021428   \n",
            "3                                     0.022546   \n",
            "4                                     0.022898   \n",
            "\n",
            "   trx__usd_11_00am_london_price__index_value  \n",
            "0                                    0.019363  \n",
            "1                                    0.019662  \n",
            "2                                    0.020025  \n",
            "3                                    0.021787  \n",
            "4                                    0.022562  \n",
            "\n",
            "[5 rows x 34 columns]\n",
            "\n",
            "Last 5 rows:\n",
            "            time  btc__current_supply_native_units  btc__market_cap_usd  \\\n",
            "2132  03-11-2024                       19777149.24         1.359540e+12   \n",
            "2133  04-11-2024                       19777621.11         1.340510e+12   \n",
            "2134  05-11-2024                       19778055.49         1.375330e+12   \n",
            "2135  06-11-2024                       19778533.61         1.497160e+12   \n",
            "2136  07-11-2024                       19778533.61         1.497160e+12   \n",
            "\n",
            "      btc__usd_4_00pm_new_york_price__index_value  \\\n",
            "2132                                  68767.37755   \n",
            "2133                                  67485.85280   \n",
            "2134                                  69469.37002   \n",
            "2135                                  75961.59387   \n",
            "2136                                  75961.59387   \n",
            "\n",
            "      btc__usd_11_00am_london_price__index_value  \\\n",
            "2132                                 68425.96046   \n",
            "2133                                 68768.51241   \n",
            "2134                                 68703.24993   \n",
            "2135                                 73781.15966   \n",
            "2136                                 74935.39288   \n",
            "\n",
            "      eth__current_supply_native_units  eth__market_cap_usd  \\\n",
            "2132                       120414245.5         2.955680e+11   \n",
            "2133                       120416263.1         2.885980e+11   \n",
            "2134                       120418154.3         2.924920e+11   \n",
            "2135                       120418534.3         3.278980e+11   \n",
            "2136                       120418534.3         3.278980e+11   \n",
            "\n",
            "      eth__usd_11_00am_london_price__index_value  \\\n",
            "2132                                 2457.149154   \n",
            "2133                                 2465.621129   \n",
            "2134                                 2434.626080   \n",
            "2135                                 2622.839686   \n",
            "2136                                 2816.261785   \n",
            "\n",
            "      eth__usd_4_00pm_new_york_price__index_value  \\\n",
            "2132                                  2459.861225   \n",
            "2133                                  2423.112716   \n",
            "2134                                  2429.239113   \n",
            "2135                                  2684.148849   \n",
            "2136                                  2684.148849   \n",
            "\n",
            "      usdc__usd_4_00pm_new_york_price__index_value  ...  \\\n",
            "2132                                      0.999857  ...   \n",
            "2133                                      0.999839  ...   \n",
            "2134                                      0.999904  ...   \n",
            "2135                                      0.999959  ...   \n",
            "2136                                      0.999959  ...   \n",
            "\n",
            "      sol__usd_11_00am_london_price__index_value  \\\n",
            "2132                                  164.006484   \n",
            "2133                                  163.165664   \n",
            "2134                                  161.493790   \n",
            "2135                                  185.015844   \n",
            "2136                                  185.015844   \n",
            "\n",
            "      sol__usd_4_00pm_new_york_price__index_value  \\\n",
            "2132                                   161.826260   \n",
            "2133                                   158.882696   \n",
            "2134                                   166.216661   \n",
            "2135                                   187.706881   \n",
            "2136                                   187.706881   \n",
            "\n",
            "      doge__usd_4_00pm_new_york_price__index_value  \\\n",
            "2132                                      0.149454   \n",
            "2133                                      0.157855   \n",
            "2134                                      0.168906   \n",
            "2135                                      0.195366   \n",
            "2136                                      0.195366   \n",
            "\n",
            "      doge__usd_11_00am_london_price__index_value  \\\n",
            "2132                                     0.150867   \n",
            "2133                                     0.156411   \n",
            "2134                                     0.168052   \n",
            "2135                                     0.200360   \n",
            "2136                                     0.200360   \n",
            "\n",
            "      doge__current_supply_native_units  doge__market_cap_usd  \\\n",
            "2132                       1.466440e+11          2.220758e+10   \n",
            "2133                       1.466570e+11          2.312275e+10   \n",
            "2134                       1.466710e+11          2.506669e+10   \n",
            "2135                       1.466850e+11          2.889474e+10   \n",
            "2136                       1.466850e+11          2.889474e+10   \n",
            "\n",
            "      trx__market_cap_usd  trx__current_supply_native_units  \\\n",
            "2132         1.651519e+10                      1.000000e+11   \n",
            "2133         1.628417e+10                      1.000000e+11   \n",
            "2134         1.601488e+10                      1.000000e+11   \n",
            "2135         1.625879e+10                      1.000000e+11   \n",
            "2136         1.625879e+10                      1.000000e+11   \n",
            "\n",
            "      trx__usd_4_00pm_new_york_price__index_value  \\\n",
            "2132                                     0.164845   \n",
            "2133                                     0.163343   \n",
            "2134                                     0.160119   \n",
            "2135                                     0.163491   \n",
            "2136                                     0.163491   \n",
            "\n",
            "      trx__usd_11_00am_london_price__index_value  \n",
            "2132                                    0.164256  \n",
            "2133                                    0.165356  \n",
            "2134                                    0.161992  \n",
            "2135                                    0.162731  \n",
            "2136                                    0.162731  \n",
            "\n",
            "[5 rows x 34 columns]\n"
          ]
        }
      ],
      "source": [
        "import pandas as pd\n",
        "\n",
        "# Replace 'your_file.csv' with the actual path to your CSV file\n",
        "df = pd.read_csv('/content/cleaned_dataset.csv')\n",
        "\n",
        "# Display the columns\n",
        "print(\"Columns:\")\n",
        "print(df.columns)\n",
        "\n",
        "# Display the datatypes of each column\n",
        "print(\"\\nDatatypes:\")\n",
        "print(df.dtypes)\n",
        "\n",
        "# Display the first 5 rows\n",
        "print(\"\\nFirst 5 rows:\")\n",
        "print(df.head())\n",
        "\n",
        "# Display the last 5 rows\n",
        "print(\"\\nLast 5 rows:\")\n",
        "print(df.tail())"
      ]
    },
    {
      "cell_type": "code",
      "source": [
        "import os\n",
        "import pandas as pd\n",
        "import numpy as np\n",
        "from prophet import Prophet\n",
        "import matplotlib.pyplot as plt\n",
        "\n",
        "# Load the dataset\n",
        "file_path = \"/content/cleaned_dataset.csv\"  # Replace with the path to your dataset\n",
        "data = pd.read_csv(file_path)\n",
        "\n",
        "# Convert the 'time' column to datetime format and filter data from 2019 onwards\n",
        "data['time'] = pd.to_datetime(data['time'], format='%d-%m-%Y')\n",
        "data = data[data['time'] >= '2019-01-01']\n",
        "data.sort_values('time', inplace=True)\n",
        "\n",
        "# Directory to save all outputs\n",
        "output_folder = \"prophet_forecasts\"\n",
        "os.makedirs(output_folder, exist_ok=True)  # Create the folder if it doesn't exist\n",
        "\n",
        "# Initialize a DataFrame to store historical and future predictions\n",
        "results = pd.DataFrame()\n",
        "\n",
        "# Define the period for the historical values (last year)\n",
        "historical_start_date = data['time'].max() - pd.DateOffset(years=4)\n",
        "\n",
        "# Iterate through each numeric column for Prophet modeling\n",
        "numeric_columns = data.select_dtypes(include=[np.number]).columns\n",
        "\n",
        "for column in numeric_columns:\n",
        "    print(f\"Processing column: {column}\")\n",
        "\n",
        "    # Prepare data for Prophet\n",
        "    prophet_data = data[['time', column]].dropna()\n",
        "    prophet_data.columns = ['ds', 'y']  # Rename columns to match Prophet's expected format\n",
        "\n",
        "    try:\n",
        "        # Initialize and fit the Prophet model with daily seasonality enabled\n",
        "        model = Prophet(daily_seasonality=True, yearly_seasonality=True)\n",
        "        model.fit(prophet_data)\n",
        "\n",
        "        # Create a DataFrame for future predictions (next year only)\n",
        "        future = model.make_future_dataframe(periods=365, freq='D')\n",
        "        forecast = model.predict(future)\n",
        "\n",
        "        # Filter historical data (last year)\n",
        "        historical_data = prophet_data[(prophet_data['ds'] >= historical_start_date)]\n",
        "        historical_data['type'] = 'historical'\n",
        "        historical_data.rename(columns={'y': f\"{column}_value\"}, inplace=True)\n",
        "\n",
        "        # Filter future predictions\n",
        "        future_forecast = forecast[forecast['ds'] > prophet_data['ds'].max()]\n",
        "        future_forecast = future_forecast[['ds', 'yhat']].rename(\n",
        "            columns={'yhat': f\"{column}_value\"}\n",
        "        )\n",
        "        future_forecast['type'] = 'predicted'\n",
        "\n",
        "        # Combine historical and future data\n",
        "        combined = pd.concat([historical_data[['ds', f\"{column}_value\", 'type']],\n",
        "                              future_forecast], ignore_index=True)\n",
        "\n",
        "        # Add the column-specific data to the results DataFrame\n",
        "        if results.empty:\n",
        "            results['time'] = combined['ds']\n",
        "        results[f\"{column}_value\"] = combined[f\"{column}_value\"]\n",
        "        results[f\"{column}_type\"] = combined['type']\n",
        "\n",
        "        # Plot the forecast\n",
        "        plt.figure(figsize=(12, 6))\n",
        "        plt.plot(prophet_data['ds'], prophet_data['y'], label=\"Historical Data\", color=\"blue\")\n",
        "        plt.plot(forecast['ds'], forecast['yhat'], label=\"Predicted Data\", color=\"orange\", linestyle=\"--\")\n",
        "        plt.fill_between(\n",
        "            forecast['ds'],\n",
        "            forecast['yhat_lower'],\n",
        "            forecast['yhat_upper'],\n",
        "            color=\"gray\",\n",
        "            alpha=0.2,\n",
        "            label=\"Confidence Interval\"\n",
        "        )\n",
        "        plt.title(f\"Prophet Forecast for {column} (Last Year & Next Year)\")\n",
        "        plt.xlabel(\"Time\")\n",
        "        plt.ylabel(column)\n",
        "        plt.legend()\n",
        "        plt.grid()\n",
        "\n",
        "        # Save the plot to the output folder\n",
        "        plot_path = os.path.join(output_folder, f\"{column}_prophet_forecast.png\")\n",
        "        plt.savefig(plot_path)\n",
        "        plt.close()\n",
        "    except Exception as e:\n",
        "        print(f\"Error processing column {column}: {e}\")\n",
        "\n",
        "# Save the combined results to a CSV file in the output folder\n",
        "csv_path = os.path.join(output_folder, 'prophet_historical_and_next_year.csv')\n",
        "results.to_csv(csv_path, index=False)\n",
        "print(f\"Combined historical and next year predictions saved to '{csv_path}'.\")\n",
        "print(f\"All forecast plots saved in the folder: '{output_folder}'.\")\n"
      ],
      "metadata": {
        "colab": {
          "base_uri": "https://localhost:8080/"
        },
        "collapsed": true,
        "id": "WyxsmZq-r3GW",
        "outputId": "f8008532-569d-4ec9-b9a3-60ef2262f8be"
      },
      "execution_count": 2,
      "outputs": [
        {
          "output_type": "stream",
          "name": "stdout",
          "text": [
            "Processing column: btc__current_supply_native_units\n"
          ]
        },
        {
          "output_type": "stream",
          "name": "stderr",
          "text": [
            "DEBUG:cmdstanpy:input tempfile: /tmp/tmpumruwf8i/1ug0uxtd.json\n",
            "DEBUG:cmdstanpy:input tempfile: /tmp/tmpumruwf8i/fqn8by8m.json\n",
            "DEBUG:cmdstanpy:idx 0\n",
            "DEBUG:cmdstanpy:running CmdStan, num_threads: None\n",
            "DEBUG:cmdstanpy:CmdStan args: ['/usr/local/lib/python3.10/dist-packages/prophet/stan_model/prophet_model.bin', 'random', 'seed=29514', 'data', 'file=/tmp/tmpumruwf8i/1ug0uxtd.json', 'init=/tmp/tmpumruwf8i/fqn8by8m.json', 'output', 'file=/tmp/tmpumruwf8i/prophet_model4z1q59ci/prophet_model-20241124191406.csv', 'method=optimize', 'algorithm=lbfgs', 'iter=10000']\n",
            "19:14:06 - cmdstanpy - INFO - Chain [1] start processing\n",
            "INFO:cmdstanpy:Chain [1] start processing\n",
            "19:14:13 - cmdstanpy - INFO - Chain [1] done processing\n",
            "INFO:cmdstanpy:Chain [1] done processing\n",
            "<ipython-input-2-8e091560cd07>:47: SettingWithCopyWarning: \n",
            "A value is trying to be set on a copy of a slice from a DataFrame.\n",
            "Try using .loc[row_indexer,col_indexer] = value instead\n",
            "\n",
            "See the caveats in the documentation: https://pandas.pydata.org/pandas-docs/stable/user_guide/indexing.html#returning-a-view-versus-a-copy\n",
            "  historical_data['type'] = 'historical'\n",
            "<ipython-input-2-8e091560cd07>:48: SettingWithCopyWarning: \n",
            "A value is trying to be set on a copy of a slice from a DataFrame\n",
            "\n",
            "See the caveats in the documentation: https://pandas.pydata.org/pandas-docs/stable/user_guide/indexing.html#returning-a-view-versus-a-copy\n",
            "  historical_data.rename(columns={'y': f\"{column}_value\"}, inplace=True)\n",
            "DEBUG:cmdstanpy:input tempfile: /tmp/tmpumruwf8i/_hgz1km5.json\n"
          ]
        },
        {
          "output_type": "stream",
          "name": "stdout",
          "text": [
            "Processing column: btc__market_cap_usd\n"
          ]
        },
        {
          "output_type": "stream",
          "name": "stderr",
          "text": [
            "DEBUG:cmdstanpy:input tempfile: /tmp/tmpumruwf8i/j3o9puy5.json\n",
            "DEBUG:cmdstanpy:idx 0\n",
            "DEBUG:cmdstanpy:running CmdStan, num_threads: None\n",
            "DEBUG:cmdstanpy:CmdStan args: ['/usr/local/lib/python3.10/dist-packages/prophet/stan_model/prophet_model.bin', 'random', 'seed=25089', 'data', 'file=/tmp/tmpumruwf8i/_hgz1km5.json', 'init=/tmp/tmpumruwf8i/j3o9puy5.json', 'output', 'file=/tmp/tmpumruwf8i/prophet_modelbxor0_9c/prophet_model-20241124191414.csv', 'method=optimize', 'algorithm=lbfgs', 'iter=10000']\n",
            "19:14:14 - cmdstanpy - INFO - Chain [1] start processing\n",
            "INFO:cmdstanpy:Chain [1] start processing\n",
            "19:14:15 - cmdstanpy - INFO - Chain [1] done processing\n",
            "INFO:cmdstanpy:Chain [1] done processing\n",
            "<ipython-input-2-8e091560cd07>:47: SettingWithCopyWarning: \n",
            "A value is trying to be set on a copy of a slice from a DataFrame.\n",
            "Try using .loc[row_indexer,col_indexer] = value instead\n",
            "\n",
            "See the caveats in the documentation: https://pandas.pydata.org/pandas-docs/stable/user_guide/indexing.html#returning-a-view-versus-a-copy\n",
            "  historical_data['type'] = 'historical'\n",
            "<ipython-input-2-8e091560cd07>:48: SettingWithCopyWarning: \n",
            "A value is trying to be set on a copy of a slice from a DataFrame\n",
            "\n",
            "See the caveats in the documentation: https://pandas.pydata.org/pandas-docs/stable/user_guide/indexing.html#returning-a-view-versus-a-copy\n",
            "  historical_data.rename(columns={'y': f\"{column}_value\"}, inplace=True)\n",
            "DEBUG:cmdstanpy:input tempfile: /tmp/tmpumruwf8i/4nnh78c2.json\n"
          ]
        },
        {
          "output_type": "stream",
          "name": "stdout",
          "text": [
            "Processing column: btc__usd_4_00pm_new_york_price__index_value\n"
          ]
        },
        {
          "output_type": "stream",
          "name": "stderr",
          "text": [
            "DEBUG:cmdstanpy:input tempfile: /tmp/tmpumruwf8i/ywwoqobk.json\n",
            "DEBUG:cmdstanpy:idx 0\n",
            "DEBUG:cmdstanpy:running CmdStan, num_threads: None\n",
            "DEBUG:cmdstanpy:CmdStan args: ['/usr/local/lib/python3.10/dist-packages/prophet/stan_model/prophet_model.bin', 'random', 'seed=2560', 'data', 'file=/tmp/tmpumruwf8i/4nnh78c2.json', 'init=/tmp/tmpumruwf8i/ywwoqobk.json', 'output', 'file=/tmp/tmpumruwf8i/prophet_modeleoc_g_v6/prophet_model-20241124191416.csv', 'method=optimize', 'algorithm=lbfgs', 'iter=10000']\n",
            "19:14:16 - cmdstanpy - INFO - Chain [1] start processing\n",
            "INFO:cmdstanpy:Chain [1] start processing\n",
            "19:14:17 - cmdstanpy - INFO - Chain [1] done processing\n",
            "INFO:cmdstanpy:Chain [1] done processing\n",
            "<ipython-input-2-8e091560cd07>:47: SettingWithCopyWarning: \n",
            "A value is trying to be set on a copy of a slice from a DataFrame.\n",
            "Try using .loc[row_indexer,col_indexer] = value instead\n",
            "\n",
            "See the caveats in the documentation: https://pandas.pydata.org/pandas-docs/stable/user_guide/indexing.html#returning-a-view-versus-a-copy\n",
            "  historical_data['type'] = 'historical'\n",
            "<ipython-input-2-8e091560cd07>:48: SettingWithCopyWarning: \n",
            "A value is trying to be set on a copy of a slice from a DataFrame\n",
            "\n",
            "See the caveats in the documentation: https://pandas.pydata.org/pandas-docs/stable/user_guide/indexing.html#returning-a-view-versus-a-copy\n",
            "  historical_data.rename(columns={'y': f\"{column}_value\"}, inplace=True)\n",
            "DEBUG:cmdstanpy:input tempfile: /tmp/tmpumruwf8i/knvbv6gl.json\n"
          ]
        },
        {
          "output_type": "stream",
          "name": "stdout",
          "text": [
            "Processing column: btc__usd_11_00am_london_price__index_value\n"
          ]
        },
        {
          "output_type": "stream",
          "name": "stderr",
          "text": [
            "DEBUG:cmdstanpy:input tempfile: /tmp/tmpumruwf8i/5n1ui9o1.json\n",
            "DEBUG:cmdstanpy:idx 0\n",
            "DEBUG:cmdstanpy:running CmdStan, num_threads: None\n",
            "DEBUG:cmdstanpy:CmdStan args: ['/usr/local/lib/python3.10/dist-packages/prophet/stan_model/prophet_model.bin', 'random', 'seed=10889', 'data', 'file=/tmp/tmpumruwf8i/knvbv6gl.json', 'init=/tmp/tmpumruwf8i/5n1ui9o1.json', 'output', 'file=/tmp/tmpumruwf8i/prophet_modelu1xop_z9/prophet_model-20241124191418.csv', 'method=optimize', 'algorithm=lbfgs', 'iter=10000']\n",
            "19:14:18 - cmdstanpy - INFO - Chain [1] start processing\n",
            "INFO:cmdstanpy:Chain [1] start processing\n",
            "19:14:20 - cmdstanpy - INFO - Chain [1] done processing\n",
            "INFO:cmdstanpy:Chain [1] done processing\n",
            "<ipython-input-2-8e091560cd07>:47: SettingWithCopyWarning: \n",
            "A value is trying to be set on a copy of a slice from a DataFrame.\n",
            "Try using .loc[row_indexer,col_indexer] = value instead\n",
            "\n",
            "See the caveats in the documentation: https://pandas.pydata.org/pandas-docs/stable/user_guide/indexing.html#returning-a-view-versus-a-copy\n",
            "  historical_data['type'] = 'historical'\n",
            "<ipython-input-2-8e091560cd07>:48: SettingWithCopyWarning: \n",
            "A value is trying to be set on a copy of a slice from a DataFrame\n",
            "\n",
            "See the caveats in the documentation: https://pandas.pydata.org/pandas-docs/stable/user_guide/indexing.html#returning-a-view-versus-a-copy\n",
            "  historical_data.rename(columns={'y': f\"{column}_value\"}, inplace=True)\n",
            "DEBUG:cmdstanpy:input tempfile: /tmp/tmpumruwf8i/9dioad9v.json\n"
          ]
        },
        {
          "output_type": "stream",
          "name": "stdout",
          "text": [
            "Processing column: eth__current_supply_native_units\n"
          ]
        },
        {
          "output_type": "stream",
          "name": "stderr",
          "text": [
            "DEBUG:cmdstanpy:input tempfile: /tmp/tmpumruwf8i/w6v3w7o_.json\n",
            "DEBUG:cmdstanpy:idx 0\n",
            "DEBUG:cmdstanpy:running CmdStan, num_threads: None\n",
            "DEBUG:cmdstanpy:CmdStan args: ['/usr/local/lib/python3.10/dist-packages/prophet/stan_model/prophet_model.bin', 'random', 'seed=39525', 'data', 'file=/tmp/tmpumruwf8i/9dioad9v.json', 'init=/tmp/tmpumruwf8i/w6v3w7o_.json', 'output', 'file=/tmp/tmpumruwf8i/prophet_modelgskgb0ud/prophet_model-20241124191421.csv', 'method=optimize', 'algorithm=lbfgs', 'iter=10000']\n",
            "19:14:21 - cmdstanpy - INFO - Chain [1] start processing\n",
            "INFO:cmdstanpy:Chain [1] start processing\n",
            "19:14:25 - cmdstanpy - INFO - Chain [1] done processing\n",
            "INFO:cmdstanpy:Chain [1] done processing\n",
            "<ipython-input-2-8e091560cd07>:47: SettingWithCopyWarning: \n",
            "A value is trying to be set on a copy of a slice from a DataFrame.\n",
            "Try using .loc[row_indexer,col_indexer] = value instead\n",
            "\n",
            "See the caveats in the documentation: https://pandas.pydata.org/pandas-docs/stable/user_guide/indexing.html#returning-a-view-versus-a-copy\n",
            "  historical_data['type'] = 'historical'\n",
            "<ipython-input-2-8e091560cd07>:48: SettingWithCopyWarning: \n",
            "A value is trying to be set on a copy of a slice from a DataFrame\n",
            "\n",
            "See the caveats in the documentation: https://pandas.pydata.org/pandas-docs/stable/user_guide/indexing.html#returning-a-view-versus-a-copy\n",
            "  historical_data.rename(columns={'y': f\"{column}_value\"}, inplace=True)\n",
            "DEBUG:cmdstanpy:input tempfile: /tmp/tmpumruwf8i/zya2snro.json\n"
          ]
        },
        {
          "output_type": "stream",
          "name": "stdout",
          "text": [
            "Processing column: eth__market_cap_usd\n"
          ]
        },
        {
          "output_type": "stream",
          "name": "stderr",
          "text": [
            "DEBUG:cmdstanpy:input tempfile: /tmp/tmpumruwf8i/5e7pnmiw.json\n",
            "DEBUG:cmdstanpy:idx 0\n",
            "DEBUG:cmdstanpy:running CmdStan, num_threads: None\n",
            "DEBUG:cmdstanpy:CmdStan args: ['/usr/local/lib/python3.10/dist-packages/prophet/stan_model/prophet_model.bin', 'random', 'seed=89046', 'data', 'file=/tmp/tmpumruwf8i/zya2snro.json', 'init=/tmp/tmpumruwf8i/5e7pnmiw.json', 'output', 'file=/tmp/tmpumruwf8i/prophet_modeltq98ckwt/prophet_model-20241124191426.csv', 'method=optimize', 'algorithm=lbfgs', 'iter=10000']\n",
            "19:14:26 - cmdstanpy - INFO - Chain [1] start processing\n",
            "INFO:cmdstanpy:Chain [1] start processing\n",
            "19:14:27 - cmdstanpy - INFO - Chain [1] done processing\n",
            "INFO:cmdstanpy:Chain [1] done processing\n",
            "<ipython-input-2-8e091560cd07>:47: SettingWithCopyWarning: \n",
            "A value is trying to be set on a copy of a slice from a DataFrame.\n",
            "Try using .loc[row_indexer,col_indexer] = value instead\n",
            "\n",
            "See the caveats in the documentation: https://pandas.pydata.org/pandas-docs/stable/user_guide/indexing.html#returning-a-view-versus-a-copy\n",
            "  historical_data['type'] = 'historical'\n",
            "<ipython-input-2-8e091560cd07>:48: SettingWithCopyWarning: \n",
            "A value is trying to be set on a copy of a slice from a DataFrame\n",
            "\n",
            "See the caveats in the documentation: https://pandas.pydata.org/pandas-docs/stable/user_guide/indexing.html#returning-a-view-versus-a-copy\n",
            "  historical_data.rename(columns={'y': f\"{column}_value\"}, inplace=True)\n",
            "DEBUG:cmdstanpy:input tempfile: /tmp/tmpumruwf8i/6tz_r1zo.json\n"
          ]
        },
        {
          "output_type": "stream",
          "name": "stdout",
          "text": [
            "Processing column: eth__usd_11_00am_london_price__index_value\n"
          ]
        },
        {
          "output_type": "stream",
          "name": "stderr",
          "text": [
            "DEBUG:cmdstanpy:input tempfile: /tmp/tmpumruwf8i/vyd2r0ek.json\n",
            "DEBUG:cmdstanpy:idx 0\n",
            "DEBUG:cmdstanpy:running CmdStan, num_threads: None\n",
            "DEBUG:cmdstanpy:CmdStan args: ['/usr/local/lib/python3.10/dist-packages/prophet/stan_model/prophet_model.bin', 'random', 'seed=63802', 'data', 'file=/tmp/tmpumruwf8i/6tz_r1zo.json', 'init=/tmp/tmpumruwf8i/vyd2r0ek.json', 'output', 'file=/tmp/tmpumruwf8i/prophet_modelckf1svdv/prophet_model-20241124191428.csv', 'method=optimize', 'algorithm=lbfgs', 'iter=10000']\n",
            "19:14:28 - cmdstanpy - INFO - Chain [1] start processing\n",
            "INFO:cmdstanpy:Chain [1] start processing\n",
            "19:14:29 - cmdstanpy - INFO - Chain [1] done processing\n",
            "INFO:cmdstanpy:Chain [1] done processing\n",
            "<ipython-input-2-8e091560cd07>:47: SettingWithCopyWarning: \n",
            "A value is trying to be set on a copy of a slice from a DataFrame.\n",
            "Try using .loc[row_indexer,col_indexer] = value instead\n",
            "\n",
            "See the caveats in the documentation: https://pandas.pydata.org/pandas-docs/stable/user_guide/indexing.html#returning-a-view-versus-a-copy\n",
            "  historical_data['type'] = 'historical'\n",
            "<ipython-input-2-8e091560cd07>:48: SettingWithCopyWarning: \n",
            "A value is trying to be set on a copy of a slice from a DataFrame\n",
            "\n",
            "See the caveats in the documentation: https://pandas.pydata.org/pandas-docs/stable/user_guide/indexing.html#returning-a-view-versus-a-copy\n",
            "  historical_data.rename(columns={'y': f\"{column}_value\"}, inplace=True)\n",
            "DEBUG:cmdstanpy:input tempfile: /tmp/tmpumruwf8i/ab5lcmaw.json\n"
          ]
        },
        {
          "output_type": "stream",
          "name": "stdout",
          "text": [
            "Processing column: eth__usd_4_00pm_new_york_price__index_value\n"
          ]
        },
        {
          "output_type": "stream",
          "name": "stderr",
          "text": [
            "DEBUG:cmdstanpy:input tempfile: /tmp/tmpumruwf8i/sbnijzwi.json\n",
            "DEBUG:cmdstanpy:idx 0\n",
            "DEBUG:cmdstanpy:running CmdStan, num_threads: None\n",
            "DEBUG:cmdstanpy:CmdStan args: ['/usr/local/lib/python3.10/dist-packages/prophet/stan_model/prophet_model.bin', 'random', 'seed=80451', 'data', 'file=/tmp/tmpumruwf8i/ab5lcmaw.json', 'init=/tmp/tmpumruwf8i/sbnijzwi.json', 'output', 'file=/tmp/tmpumruwf8i/prophet_model3utsa7xh/prophet_model-20241124191430.csv', 'method=optimize', 'algorithm=lbfgs', 'iter=10000']\n",
            "19:14:30 - cmdstanpy - INFO - Chain [1] start processing\n",
            "INFO:cmdstanpy:Chain [1] start processing\n",
            "19:14:31 - cmdstanpy - INFO - Chain [1] done processing\n",
            "INFO:cmdstanpy:Chain [1] done processing\n",
            "<ipython-input-2-8e091560cd07>:47: SettingWithCopyWarning: \n",
            "A value is trying to be set on a copy of a slice from a DataFrame.\n",
            "Try using .loc[row_indexer,col_indexer] = value instead\n",
            "\n",
            "See the caveats in the documentation: https://pandas.pydata.org/pandas-docs/stable/user_guide/indexing.html#returning-a-view-versus-a-copy\n",
            "  historical_data['type'] = 'historical'\n",
            "<ipython-input-2-8e091560cd07>:48: SettingWithCopyWarning: \n",
            "A value is trying to be set on a copy of a slice from a DataFrame\n",
            "\n",
            "See the caveats in the documentation: https://pandas.pydata.org/pandas-docs/stable/user_guide/indexing.html#returning-a-view-versus-a-copy\n",
            "  historical_data.rename(columns={'y': f\"{column}_value\"}, inplace=True)\n",
            "DEBUG:cmdstanpy:input tempfile: /tmp/tmpumruwf8i/kqxbphh6.json\n"
          ]
        },
        {
          "output_type": "stream",
          "name": "stdout",
          "text": [
            "Processing column: usdc__usd_4_00pm_new_york_price__index_value\n"
          ]
        },
        {
          "output_type": "stream",
          "name": "stderr",
          "text": [
            "DEBUG:cmdstanpy:input tempfile: /tmp/tmpumruwf8i/pklb49dq.json\n",
            "DEBUG:cmdstanpy:idx 0\n",
            "DEBUG:cmdstanpy:running CmdStan, num_threads: None\n",
            "DEBUG:cmdstanpy:CmdStan args: ['/usr/local/lib/python3.10/dist-packages/prophet/stan_model/prophet_model.bin', 'random', 'seed=76932', 'data', 'file=/tmp/tmpumruwf8i/kqxbphh6.json', 'init=/tmp/tmpumruwf8i/pklb49dq.json', 'output', 'file=/tmp/tmpumruwf8i/prophet_modelu3usp69g/prophet_model-20241124191432.csv', 'method=optimize', 'algorithm=lbfgs', 'iter=10000']\n",
            "19:14:32 - cmdstanpy - INFO - Chain [1] start processing\n",
            "INFO:cmdstanpy:Chain [1] start processing\n",
            "19:14:33 - cmdstanpy - INFO - Chain [1] done processing\n",
            "INFO:cmdstanpy:Chain [1] done processing\n",
            "<ipython-input-2-8e091560cd07>:47: SettingWithCopyWarning: \n",
            "A value is trying to be set on a copy of a slice from a DataFrame.\n",
            "Try using .loc[row_indexer,col_indexer] = value instead\n",
            "\n",
            "See the caveats in the documentation: https://pandas.pydata.org/pandas-docs/stable/user_guide/indexing.html#returning-a-view-versus-a-copy\n",
            "  historical_data['type'] = 'historical'\n",
            "<ipython-input-2-8e091560cd07>:48: SettingWithCopyWarning: \n",
            "A value is trying to be set on a copy of a slice from a DataFrame\n",
            "\n",
            "See the caveats in the documentation: https://pandas.pydata.org/pandas-docs/stable/user_guide/indexing.html#returning-a-view-versus-a-copy\n",
            "  historical_data.rename(columns={'y': f\"{column}_value\"}, inplace=True)\n",
            "DEBUG:cmdstanpy:input tempfile: /tmp/tmpumruwf8i/_xqyymdv.json\n"
          ]
        },
        {
          "output_type": "stream",
          "name": "stdout",
          "text": [
            "Processing column: usdc__usd_11_00am_london_price__index_value\n"
          ]
        },
        {
          "output_type": "stream",
          "name": "stderr",
          "text": [
            "DEBUG:cmdstanpy:input tempfile: /tmp/tmpumruwf8i/m2bp9u1m.json\n",
            "DEBUG:cmdstanpy:idx 0\n",
            "DEBUG:cmdstanpy:running CmdStan, num_threads: None\n",
            "DEBUG:cmdstanpy:CmdStan args: ['/usr/local/lib/python3.10/dist-packages/prophet/stan_model/prophet_model.bin', 'random', 'seed=72394', 'data', 'file=/tmp/tmpumruwf8i/_xqyymdv.json', 'init=/tmp/tmpumruwf8i/m2bp9u1m.json', 'output', 'file=/tmp/tmpumruwf8i/prophet_modelmoqdtbwr/prophet_model-20241124191434.csv', 'method=optimize', 'algorithm=lbfgs', 'iter=10000']\n",
            "19:14:35 - cmdstanpy - INFO - Chain [1] start processing\n",
            "INFO:cmdstanpy:Chain [1] start processing\n",
            "19:14:35 - cmdstanpy - INFO - Chain [1] done processing\n",
            "INFO:cmdstanpy:Chain [1] done processing\n",
            "<ipython-input-2-8e091560cd07>:47: SettingWithCopyWarning: \n",
            "A value is trying to be set on a copy of a slice from a DataFrame.\n",
            "Try using .loc[row_indexer,col_indexer] = value instead\n",
            "\n",
            "See the caveats in the documentation: https://pandas.pydata.org/pandas-docs/stable/user_guide/indexing.html#returning-a-view-versus-a-copy\n",
            "  historical_data['type'] = 'historical'\n",
            "<ipython-input-2-8e091560cd07>:48: SettingWithCopyWarning: \n",
            "A value is trying to be set on a copy of a slice from a DataFrame\n",
            "\n",
            "See the caveats in the documentation: https://pandas.pydata.org/pandas-docs/stable/user_guide/indexing.html#returning-a-view-versus-a-copy\n",
            "  historical_data.rename(columns={'y': f\"{column}_value\"}, inplace=True)\n",
            "DEBUG:cmdstanpy:input tempfile: /tmp/tmpumruwf8i/p6wbixda.json\n"
          ]
        },
        {
          "output_type": "stream",
          "name": "stdout",
          "text": [
            "Processing column: usdc__current_supply_native_units\n"
          ]
        },
        {
          "output_type": "stream",
          "name": "stderr",
          "text": [
            "DEBUG:cmdstanpy:input tempfile: /tmp/tmpumruwf8i/4jos0z80.json\n",
            "DEBUG:cmdstanpy:idx 0\n",
            "DEBUG:cmdstanpy:running CmdStan, num_threads: None\n",
            "DEBUG:cmdstanpy:CmdStan args: ['/usr/local/lib/python3.10/dist-packages/prophet/stan_model/prophet_model.bin', 'random', 'seed=98823', 'data', 'file=/tmp/tmpumruwf8i/p6wbixda.json', 'init=/tmp/tmpumruwf8i/4jos0z80.json', 'output', 'file=/tmp/tmpumruwf8i/prophet_modelykuoiykb/prophet_model-20241124191436.csv', 'method=optimize', 'algorithm=lbfgs', 'iter=10000']\n",
            "19:14:36 - cmdstanpy - INFO - Chain [1] start processing\n",
            "INFO:cmdstanpy:Chain [1] start processing\n",
            "19:14:38 - cmdstanpy - INFO - Chain [1] done processing\n",
            "INFO:cmdstanpy:Chain [1] done processing\n",
            "<ipython-input-2-8e091560cd07>:47: SettingWithCopyWarning: \n",
            "A value is trying to be set on a copy of a slice from a DataFrame.\n",
            "Try using .loc[row_indexer,col_indexer] = value instead\n",
            "\n",
            "See the caveats in the documentation: https://pandas.pydata.org/pandas-docs/stable/user_guide/indexing.html#returning-a-view-versus-a-copy\n",
            "  historical_data['type'] = 'historical'\n",
            "<ipython-input-2-8e091560cd07>:48: SettingWithCopyWarning: \n",
            "A value is trying to be set on a copy of a slice from a DataFrame\n",
            "\n",
            "See the caveats in the documentation: https://pandas.pydata.org/pandas-docs/stable/user_guide/indexing.html#returning-a-view-versus-a-copy\n",
            "  historical_data.rename(columns={'y': f\"{column}_value\"}, inplace=True)\n",
            "DEBUG:cmdstanpy:input tempfile: /tmp/tmpumruwf8i/abka3w32.json\n"
          ]
        },
        {
          "output_type": "stream",
          "name": "stdout",
          "text": [
            "Processing column: usdc__market_cap_usd\n"
          ]
        },
        {
          "output_type": "stream",
          "name": "stderr",
          "text": [
            "DEBUG:cmdstanpy:input tempfile: /tmp/tmpumruwf8i/die85gr5.json\n",
            "DEBUG:cmdstanpy:idx 0\n",
            "DEBUG:cmdstanpy:running CmdStan, num_threads: None\n",
            "DEBUG:cmdstanpy:CmdStan args: ['/usr/local/lib/python3.10/dist-packages/prophet/stan_model/prophet_model.bin', 'random', 'seed=21299', 'data', 'file=/tmp/tmpumruwf8i/abka3w32.json', 'init=/tmp/tmpumruwf8i/die85gr5.json', 'output', 'file=/tmp/tmpumruwf8i/prophet_modeljxt9n27c/prophet_model-20241124191439.csv', 'method=optimize', 'algorithm=lbfgs', 'iter=10000']\n",
            "19:14:39 - cmdstanpy - INFO - Chain [1] start processing\n",
            "INFO:cmdstanpy:Chain [1] start processing\n",
            "19:14:41 - cmdstanpy - INFO - Chain [1] done processing\n",
            "INFO:cmdstanpy:Chain [1] done processing\n",
            "<ipython-input-2-8e091560cd07>:47: SettingWithCopyWarning: \n",
            "A value is trying to be set on a copy of a slice from a DataFrame.\n",
            "Try using .loc[row_indexer,col_indexer] = value instead\n",
            "\n",
            "See the caveats in the documentation: https://pandas.pydata.org/pandas-docs/stable/user_guide/indexing.html#returning-a-view-versus-a-copy\n",
            "  historical_data['type'] = 'historical'\n",
            "<ipython-input-2-8e091560cd07>:48: SettingWithCopyWarning: \n",
            "A value is trying to be set on a copy of a slice from a DataFrame\n",
            "\n",
            "See the caveats in the documentation: https://pandas.pydata.org/pandas-docs/stable/user_guide/indexing.html#returning-a-view-versus-a-copy\n",
            "  historical_data.rename(columns={'y': f\"{column}_value\"}, inplace=True)\n",
            "DEBUG:cmdstanpy:input tempfile: /tmp/tmpumruwf8i/ixp8xbkl.json\n"
          ]
        },
        {
          "output_type": "stream",
          "name": "stdout",
          "text": [
            "Processing column: usdt__usd_4_00pm_new_york_price__index_value\n"
          ]
        },
        {
          "output_type": "stream",
          "name": "stderr",
          "text": [
            "DEBUG:cmdstanpy:input tempfile: /tmp/tmpumruwf8i/jjao2jl6.json\n",
            "DEBUG:cmdstanpy:idx 0\n",
            "DEBUG:cmdstanpy:running CmdStan, num_threads: None\n",
            "DEBUG:cmdstanpy:CmdStan args: ['/usr/local/lib/python3.10/dist-packages/prophet/stan_model/prophet_model.bin', 'random', 'seed=22759', 'data', 'file=/tmp/tmpumruwf8i/ixp8xbkl.json', 'init=/tmp/tmpumruwf8i/jjao2jl6.json', 'output', 'file=/tmp/tmpumruwf8i/prophet_modelk9spi1wz/prophet_model-20241124191442.csv', 'method=optimize', 'algorithm=lbfgs', 'iter=10000']\n",
            "19:14:42 - cmdstanpy - INFO - Chain [1] start processing\n",
            "INFO:cmdstanpy:Chain [1] start processing\n",
            "19:14:43 - cmdstanpy - INFO - Chain [1] done processing\n",
            "INFO:cmdstanpy:Chain [1] done processing\n",
            "<ipython-input-2-8e091560cd07>:47: SettingWithCopyWarning: \n",
            "A value is trying to be set on a copy of a slice from a DataFrame.\n",
            "Try using .loc[row_indexer,col_indexer] = value instead\n",
            "\n",
            "See the caveats in the documentation: https://pandas.pydata.org/pandas-docs/stable/user_guide/indexing.html#returning-a-view-versus-a-copy\n",
            "  historical_data['type'] = 'historical'\n",
            "<ipython-input-2-8e091560cd07>:48: SettingWithCopyWarning: \n",
            "A value is trying to be set on a copy of a slice from a DataFrame\n",
            "\n",
            "See the caveats in the documentation: https://pandas.pydata.org/pandas-docs/stable/user_guide/indexing.html#returning-a-view-versus-a-copy\n",
            "  historical_data.rename(columns={'y': f\"{column}_value\"}, inplace=True)\n",
            "DEBUG:cmdstanpy:input tempfile: /tmp/tmpumruwf8i/u7k_t6ml.json\n"
          ]
        },
        {
          "output_type": "stream",
          "name": "stdout",
          "text": [
            "Processing column: usdt__usd_11_00am_london_price__index_value\n"
          ]
        },
        {
          "output_type": "stream",
          "name": "stderr",
          "text": [
            "DEBUG:cmdstanpy:input tempfile: /tmp/tmpumruwf8i/yb4h5cl0.json\n",
            "DEBUG:cmdstanpy:idx 0\n",
            "DEBUG:cmdstanpy:running CmdStan, num_threads: None\n",
            "DEBUG:cmdstanpy:CmdStan args: ['/usr/local/lib/python3.10/dist-packages/prophet/stan_model/prophet_model.bin', 'random', 'seed=11384', 'data', 'file=/tmp/tmpumruwf8i/u7k_t6ml.json', 'init=/tmp/tmpumruwf8i/yb4h5cl0.json', 'output', 'file=/tmp/tmpumruwf8i/prophet_modelmar02weq/prophet_model-20241124191444.csv', 'method=optimize', 'algorithm=lbfgs', 'iter=10000']\n",
            "19:14:44 - cmdstanpy - INFO - Chain [1] start processing\n",
            "INFO:cmdstanpy:Chain [1] start processing\n",
            "19:14:46 - cmdstanpy - INFO - Chain [1] done processing\n",
            "INFO:cmdstanpy:Chain [1] done processing\n",
            "<ipython-input-2-8e091560cd07>:47: SettingWithCopyWarning: \n",
            "A value is trying to be set on a copy of a slice from a DataFrame.\n",
            "Try using .loc[row_indexer,col_indexer] = value instead\n",
            "\n",
            "See the caveats in the documentation: https://pandas.pydata.org/pandas-docs/stable/user_guide/indexing.html#returning-a-view-versus-a-copy\n",
            "  historical_data['type'] = 'historical'\n",
            "<ipython-input-2-8e091560cd07>:48: SettingWithCopyWarning: \n",
            "A value is trying to be set on a copy of a slice from a DataFrame\n",
            "\n",
            "See the caveats in the documentation: https://pandas.pydata.org/pandas-docs/stable/user_guide/indexing.html#returning-a-view-versus-a-copy\n",
            "  historical_data.rename(columns={'y': f\"{column}_value\"}, inplace=True)\n",
            "DEBUG:cmdstanpy:input tempfile: /tmp/tmpumruwf8i/h9oie45m.json\n"
          ]
        },
        {
          "output_type": "stream",
          "name": "stdout",
          "text": [
            "Processing column: xrp__current_supply_native_units\n"
          ]
        },
        {
          "output_type": "stream",
          "name": "stderr",
          "text": [
            "DEBUG:cmdstanpy:input tempfile: /tmp/tmpumruwf8i/1qp8s1ff.json\n",
            "DEBUG:cmdstanpy:idx 0\n",
            "DEBUG:cmdstanpy:running CmdStan, num_threads: None\n",
            "DEBUG:cmdstanpy:CmdStan args: ['/usr/local/lib/python3.10/dist-packages/prophet/stan_model/prophet_model.bin', 'random', 'seed=27624', 'data', 'file=/tmp/tmpumruwf8i/h9oie45m.json', 'init=/tmp/tmpumruwf8i/1qp8s1ff.json', 'output', 'file=/tmp/tmpumruwf8i/prophet_model57qexks9/prophet_model-20241124191447.csv', 'method=optimize', 'algorithm=lbfgs', 'iter=10000']\n",
            "19:14:47 - cmdstanpy - INFO - Chain [1] start processing\n",
            "INFO:cmdstanpy:Chain [1] start processing\n",
            "19:14:48 - cmdstanpy - INFO - Chain [1] done processing\n",
            "INFO:cmdstanpy:Chain [1] done processing\n",
            "<ipython-input-2-8e091560cd07>:47: SettingWithCopyWarning: \n",
            "A value is trying to be set on a copy of a slice from a DataFrame.\n",
            "Try using .loc[row_indexer,col_indexer] = value instead\n",
            "\n",
            "See the caveats in the documentation: https://pandas.pydata.org/pandas-docs/stable/user_guide/indexing.html#returning-a-view-versus-a-copy\n",
            "  historical_data['type'] = 'historical'\n",
            "<ipython-input-2-8e091560cd07>:48: SettingWithCopyWarning: \n",
            "A value is trying to be set on a copy of a slice from a DataFrame\n",
            "\n",
            "See the caveats in the documentation: https://pandas.pydata.org/pandas-docs/stable/user_guide/indexing.html#returning-a-view-versus-a-copy\n",
            "  historical_data.rename(columns={'y': f\"{column}_value\"}, inplace=True)\n",
            "DEBUG:cmdstanpy:input tempfile: /tmp/tmpumruwf8i/6mxf733g.json\n"
          ]
        },
        {
          "output_type": "stream",
          "name": "stdout",
          "text": [
            "Processing column: xrp__usd_11_00am_london_price__index_value\n"
          ]
        },
        {
          "output_type": "stream",
          "name": "stderr",
          "text": [
            "DEBUG:cmdstanpy:input tempfile: /tmp/tmpumruwf8i/p2iexxio.json\n",
            "DEBUG:cmdstanpy:idx 0\n",
            "DEBUG:cmdstanpy:running CmdStan, num_threads: None\n",
            "DEBUG:cmdstanpy:CmdStan args: ['/usr/local/lib/python3.10/dist-packages/prophet/stan_model/prophet_model.bin', 'random', 'seed=40272', 'data', 'file=/tmp/tmpumruwf8i/6mxf733g.json', 'init=/tmp/tmpumruwf8i/p2iexxio.json', 'output', 'file=/tmp/tmpumruwf8i/prophet_modelnc782yca/prophet_model-20241124191449.csv', 'method=optimize', 'algorithm=lbfgs', 'iter=10000']\n",
            "19:14:49 - cmdstanpy - INFO - Chain [1] start processing\n",
            "INFO:cmdstanpy:Chain [1] start processing\n",
            "19:14:50 - cmdstanpy - INFO - Chain [1] done processing\n",
            "INFO:cmdstanpy:Chain [1] done processing\n",
            "<ipython-input-2-8e091560cd07>:47: SettingWithCopyWarning: \n",
            "A value is trying to be set on a copy of a slice from a DataFrame.\n",
            "Try using .loc[row_indexer,col_indexer] = value instead\n",
            "\n",
            "See the caveats in the documentation: https://pandas.pydata.org/pandas-docs/stable/user_guide/indexing.html#returning-a-view-versus-a-copy\n",
            "  historical_data['type'] = 'historical'\n",
            "<ipython-input-2-8e091560cd07>:48: SettingWithCopyWarning: \n",
            "A value is trying to be set on a copy of a slice from a DataFrame\n",
            "\n",
            "See the caveats in the documentation: https://pandas.pydata.org/pandas-docs/stable/user_guide/indexing.html#returning-a-view-versus-a-copy\n",
            "  historical_data.rename(columns={'y': f\"{column}_value\"}, inplace=True)\n",
            "DEBUG:cmdstanpy:input tempfile: /tmp/tmpumruwf8i/m1sf1zp9.json\n"
          ]
        },
        {
          "output_type": "stream",
          "name": "stdout",
          "text": [
            "Processing column: xrp__usd_4_00pm_new_york_price__index_value\n"
          ]
        },
        {
          "output_type": "stream",
          "name": "stderr",
          "text": [
            "DEBUG:cmdstanpy:input tempfile: /tmp/tmpumruwf8i/fgqxol3z.json\n",
            "DEBUG:cmdstanpy:idx 0\n",
            "DEBUG:cmdstanpy:running CmdStan, num_threads: None\n",
            "DEBUG:cmdstanpy:CmdStan args: ['/usr/local/lib/python3.10/dist-packages/prophet/stan_model/prophet_model.bin', 'random', 'seed=93739', 'data', 'file=/tmp/tmpumruwf8i/m1sf1zp9.json', 'init=/tmp/tmpumruwf8i/fgqxol3z.json', 'output', 'file=/tmp/tmpumruwf8i/prophet_modelmh3vzok5/prophet_model-20241124191451.csv', 'method=optimize', 'algorithm=lbfgs', 'iter=10000']\n",
            "19:14:51 - cmdstanpy - INFO - Chain [1] start processing\n",
            "INFO:cmdstanpy:Chain [1] start processing\n",
            "19:14:51 - cmdstanpy - INFO - Chain [1] done processing\n",
            "INFO:cmdstanpy:Chain [1] done processing\n",
            "<ipython-input-2-8e091560cd07>:47: SettingWithCopyWarning: \n",
            "A value is trying to be set on a copy of a slice from a DataFrame.\n",
            "Try using .loc[row_indexer,col_indexer] = value instead\n",
            "\n",
            "See the caveats in the documentation: https://pandas.pydata.org/pandas-docs/stable/user_guide/indexing.html#returning-a-view-versus-a-copy\n",
            "  historical_data['type'] = 'historical'\n",
            "<ipython-input-2-8e091560cd07>:48: SettingWithCopyWarning: \n",
            "A value is trying to be set on a copy of a slice from a DataFrame\n",
            "\n",
            "See the caveats in the documentation: https://pandas.pydata.org/pandas-docs/stable/user_guide/indexing.html#returning-a-view-versus-a-copy\n",
            "  historical_data.rename(columns={'y': f\"{column}_value\"}, inplace=True)\n",
            "DEBUG:cmdstanpy:input tempfile: /tmp/tmpumruwf8i/nzvptcni.json\n"
          ]
        },
        {
          "output_type": "stream",
          "name": "stdout",
          "text": [
            "Processing column: xrp__market_cap_usd\n"
          ]
        },
        {
          "output_type": "stream",
          "name": "stderr",
          "text": [
            "DEBUG:cmdstanpy:input tempfile: /tmp/tmpumruwf8i/0fjw6ave.json\n",
            "DEBUG:cmdstanpy:idx 0\n",
            "DEBUG:cmdstanpy:running CmdStan, num_threads: None\n",
            "DEBUG:cmdstanpy:CmdStan args: ['/usr/local/lib/python3.10/dist-packages/prophet/stan_model/prophet_model.bin', 'random', 'seed=26212', 'data', 'file=/tmp/tmpumruwf8i/nzvptcni.json', 'init=/tmp/tmpumruwf8i/0fjw6ave.json', 'output', 'file=/tmp/tmpumruwf8i/prophet_modeltf0wtpfl/prophet_model-20241124191452.csv', 'method=optimize', 'algorithm=lbfgs', 'iter=10000']\n",
            "19:14:52 - cmdstanpy - INFO - Chain [1] start processing\n",
            "INFO:cmdstanpy:Chain [1] start processing\n",
            "19:14:53 - cmdstanpy - INFO - Chain [1] done processing\n",
            "INFO:cmdstanpy:Chain [1] done processing\n",
            "<ipython-input-2-8e091560cd07>:47: SettingWithCopyWarning: \n",
            "A value is trying to be set on a copy of a slice from a DataFrame.\n",
            "Try using .loc[row_indexer,col_indexer] = value instead\n",
            "\n",
            "See the caveats in the documentation: https://pandas.pydata.org/pandas-docs/stable/user_guide/indexing.html#returning-a-view-versus-a-copy\n",
            "  historical_data['type'] = 'historical'\n",
            "<ipython-input-2-8e091560cd07>:48: SettingWithCopyWarning: \n",
            "A value is trying to be set on a copy of a slice from a DataFrame\n",
            "\n",
            "See the caveats in the documentation: https://pandas.pydata.org/pandas-docs/stable/user_guide/indexing.html#returning-a-view-versus-a-copy\n",
            "  historical_data.rename(columns={'y': f\"{column}_value\"}, inplace=True)\n",
            "DEBUG:cmdstanpy:input tempfile: /tmp/tmpumruwf8i/0ig40n72.json\n"
          ]
        },
        {
          "output_type": "stream",
          "name": "stdout",
          "text": [
            "Processing column: ada__current_supply_native_units\n"
          ]
        },
        {
          "output_type": "stream",
          "name": "stderr",
          "text": [
            "DEBUG:cmdstanpy:input tempfile: /tmp/tmpumruwf8i/u47dbhew.json\n",
            "DEBUG:cmdstanpy:idx 0\n",
            "DEBUG:cmdstanpy:running CmdStan, num_threads: None\n",
            "DEBUG:cmdstanpy:CmdStan args: ['/usr/local/lib/python3.10/dist-packages/prophet/stan_model/prophet_model.bin', 'random', 'seed=64536', 'data', 'file=/tmp/tmpumruwf8i/0ig40n72.json', 'init=/tmp/tmpumruwf8i/u47dbhew.json', 'output', 'file=/tmp/tmpumruwf8i/prophet_model91xfetyr/prophet_model-20241124191454.csv', 'method=optimize', 'algorithm=lbfgs', 'iter=10000']\n",
            "19:14:54 - cmdstanpy - INFO - Chain [1] start processing\n",
            "INFO:cmdstanpy:Chain [1] start processing\n",
            "19:14:56 - cmdstanpy - INFO - Chain [1] done processing\n",
            "INFO:cmdstanpy:Chain [1] done processing\n",
            "<ipython-input-2-8e091560cd07>:47: SettingWithCopyWarning: \n",
            "A value is trying to be set on a copy of a slice from a DataFrame.\n",
            "Try using .loc[row_indexer,col_indexer] = value instead\n",
            "\n",
            "See the caveats in the documentation: https://pandas.pydata.org/pandas-docs/stable/user_guide/indexing.html#returning-a-view-versus-a-copy\n",
            "  historical_data['type'] = 'historical'\n",
            "<ipython-input-2-8e091560cd07>:48: SettingWithCopyWarning: \n",
            "A value is trying to be set on a copy of a slice from a DataFrame\n",
            "\n",
            "See the caveats in the documentation: https://pandas.pydata.org/pandas-docs/stable/user_guide/indexing.html#returning-a-view-versus-a-copy\n",
            "  historical_data.rename(columns={'y': f\"{column}_value\"}, inplace=True)\n",
            "DEBUG:cmdstanpy:input tempfile: /tmp/tmpumruwf8i/e9elnt7r.json\n"
          ]
        },
        {
          "output_type": "stream",
          "name": "stdout",
          "text": [
            "Processing column: ada__usd_11_00am_london_price__index_value\n"
          ]
        },
        {
          "output_type": "stream",
          "name": "stderr",
          "text": [
            "DEBUG:cmdstanpy:input tempfile: /tmp/tmpumruwf8i/_79q3c5e.json\n",
            "DEBUG:cmdstanpy:idx 0\n",
            "DEBUG:cmdstanpy:running CmdStan, num_threads: None\n",
            "DEBUG:cmdstanpy:CmdStan args: ['/usr/local/lib/python3.10/dist-packages/prophet/stan_model/prophet_model.bin', 'random', 'seed=70344', 'data', 'file=/tmp/tmpumruwf8i/e9elnt7r.json', 'init=/tmp/tmpumruwf8i/_79q3c5e.json', 'output', 'file=/tmp/tmpumruwf8i/prophet_model_xu3svmu/prophet_model-20241124191457.csv', 'method=optimize', 'algorithm=lbfgs', 'iter=10000']\n",
            "19:14:57 - cmdstanpy - INFO - Chain [1] start processing\n",
            "INFO:cmdstanpy:Chain [1] start processing\n",
            "19:14:58 - cmdstanpy - INFO - Chain [1] done processing\n",
            "INFO:cmdstanpy:Chain [1] done processing\n",
            "<ipython-input-2-8e091560cd07>:47: SettingWithCopyWarning: \n",
            "A value is trying to be set on a copy of a slice from a DataFrame.\n",
            "Try using .loc[row_indexer,col_indexer] = value instead\n",
            "\n",
            "See the caveats in the documentation: https://pandas.pydata.org/pandas-docs/stable/user_guide/indexing.html#returning-a-view-versus-a-copy\n",
            "  historical_data['type'] = 'historical'\n",
            "<ipython-input-2-8e091560cd07>:48: SettingWithCopyWarning: \n",
            "A value is trying to be set on a copy of a slice from a DataFrame\n",
            "\n",
            "See the caveats in the documentation: https://pandas.pydata.org/pandas-docs/stable/user_guide/indexing.html#returning-a-view-versus-a-copy\n",
            "  historical_data.rename(columns={'y': f\"{column}_value\"}, inplace=True)\n",
            "DEBUG:cmdstanpy:input tempfile: /tmp/tmpumruwf8i/abrk6rpk.json\n"
          ]
        },
        {
          "output_type": "stream",
          "name": "stdout",
          "text": [
            "Processing column: ada__usd_4_00pm_new_york_price__index_value\n"
          ]
        },
        {
          "output_type": "stream",
          "name": "stderr",
          "text": [
            "DEBUG:cmdstanpy:input tempfile: /tmp/tmpumruwf8i/c5pgn09o.json\n",
            "DEBUG:cmdstanpy:idx 0\n",
            "DEBUG:cmdstanpy:running CmdStan, num_threads: None\n",
            "DEBUG:cmdstanpy:CmdStan args: ['/usr/local/lib/python3.10/dist-packages/prophet/stan_model/prophet_model.bin', 'random', 'seed=71549', 'data', 'file=/tmp/tmpumruwf8i/abrk6rpk.json', 'init=/tmp/tmpumruwf8i/c5pgn09o.json', 'output', 'file=/tmp/tmpumruwf8i/prophet_modelg8vb1sb4/prophet_model-20241124191459.csv', 'method=optimize', 'algorithm=lbfgs', 'iter=10000']\n",
            "19:14:59 - cmdstanpy - INFO - Chain [1] start processing\n",
            "INFO:cmdstanpy:Chain [1] start processing\n",
            "19:15:01 - cmdstanpy - INFO - Chain [1] done processing\n",
            "INFO:cmdstanpy:Chain [1] done processing\n",
            "<ipython-input-2-8e091560cd07>:47: SettingWithCopyWarning: \n",
            "A value is trying to be set on a copy of a slice from a DataFrame.\n",
            "Try using .loc[row_indexer,col_indexer] = value instead\n",
            "\n",
            "See the caveats in the documentation: https://pandas.pydata.org/pandas-docs/stable/user_guide/indexing.html#returning-a-view-versus-a-copy\n",
            "  historical_data['type'] = 'historical'\n",
            "<ipython-input-2-8e091560cd07>:48: SettingWithCopyWarning: \n",
            "A value is trying to be set on a copy of a slice from a DataFrame\n",
            "\n",
            "See the caveats in the documentation: https://pandas.pydata.org/pandas-docs/stable/user_guide/indexing.html#returning-a-view-versus-a-copy\n",
            "  historical_data.rename(columns={'y': f\"{column}_value\"}, inplace=True)\n",
            "DEBUG:cmdstanpy:input tempfile: /tmp/tmpumruwf8i/iueg0blb.json\n"
          ]
        },
        {
          "output_type": "stream",
          "name": "stdout",
          "text": [
            "Processing column: ada__market_cap_usd\n"
          ]
        },
        {
          "output_type": "stream",
          "name": "stderr",
          "text": [
            "DEBUG:cmdstanpy:input tempfile: /tmp/tmpumruwf8i/3_f2peke.json\n",
            "DEBUG:cmdstanpy:idx 0\n",
            "DEBUG:cmdstanpy:running CmdStan, num_threads: None\n",
            "DEBUG:cmdstanpy:CmdStan args: ['/usr/local/lib/python3.10/dist-packages/prophet/stan_model/prophet_model.bin', 'random', 'seed=11119', 'data', 'file=/tmp/tmpumruwf8i/iueg0blb.json', 'init=/tmp/tmpumruwf8i/3_f2peke.json', 'output', 'file=/tmp/tmpumruwf8i/prophet_modelz_7446l3/prophet_model-20241124191502.csv', 'method=optimize', 'algorithm=lbfgs', 'iter=10000']\n",
            "19:15:02 - cmdstanpy - INFO - Chain [1] start processing\n",
            "INFO:cmdstanpy:Chain [1] start processing\n",
            "19:15:03 - cmdstanpy - INFO - Chain [1] done processing\n",
            "INFO:cmdstanpy:Chain [1] done processing\n",
            "<ipython-input-2-8e091560cd07>:47: SettingWithCopyWarning: \n",
            "A value is trying to be set on a copy of a slice from a DataFrame.\n",
            "Try using .loc[row_indexer,col_indexer] = value instead\n",
            "\n",
            "See the caveats in the documentation: https://pandas.pydata.org/pandas-docs/stable/user_guide/indexing.html#returning-a-view-versus-a-copy\n",
            "  historical_data['type'] = 'historical'\n",
            "<ipython-input-2-8e091560cd07>:48: SettingWithCopyWarning: \n",
            "A value is trying to be set on a copy of a slice from a DataFrame\n",
            "\n",
            "See the caveats in the documentation: https://pandas.pydata.org/pandas-docs/stable/user_guide/indexing.html#returning-a-view-versus-a-copy\n",
            "  historical_data.rename(columns={'y': f\"{column}_value\"}, inplace=True)\n",
            "DEBUG:cmdstanpy:input tempfile: /tmp/tmpumruwf8i/hgl7uz7z.json\n",
            "DEBUG:cmdstanpy:input tempfile: /tmp/tmpumruwf8i/m3zqm6il.json\n",
            "DEBUG:cmdstanpy:idx 0\n",
            "DEBUG:cmdstanpy:running CmdStan, num_threads: None\n",
            "DEBUG:cmdstanpy:CmdStan args: ['/usr/local/lib/python3.10/dist-packages/prophet/stan_model/prophet_model.bin', 'random', 'seed=80707', 'data', 'file=/tmp/tmpumruwf8i/hgl7uz7z.json', 'init=/tmp/tmpumruwf8i/m3zqm6il.json', 'output', 'file=/tmp/tmpumruwf8i/prophet_modeliyozo298/prophet_model-20241124191504.csv', 'method=optimize', 'algorithm=lbfgs', 'iter=10000']\n",
            "19:15:04 - cmdstanpy - INFO - Chain [1] start processing\n",
            "INFO:cmdstanpy:Chain [1] start processing\n"
          ]
        },
        {
          "output_type": "stream",
          "name": "stdout",
          "text": [
            "Processing column: sol__market_cap_estimated_usd\n"
          ]
        },
        {
          "output_type": "stream",
          "name": "stderr",
          "text": [
            "19:15:05 - cmdstanpy - INFO - Chain [1] done processing\n",
            "INFO:cmdstanpy:Chain [1] done processing\n",
            "<ipython-input-2-8e091560cd07>:47: SettingWithCopyWarning: \n",
            "A value is trying to be set on a copy of a slice from a DataFrame.\n",
            "Try using .loc[row_indexer,col_indexer] = value instead\n",
            "\n",
            "See the caveats in the documentation: https://pandas.pydata.org/pandas-docs/stable/user_guide/indexing.html#returning-a-view-versus-a-copy\n",
            "  historical_data['type'] = 'historical'\n",
            "<ipython-input-2-8e091560cd07>:48: SettingWithCopyWarning: \n",
            "A value is trying to be set on a copy of a slice from a DataFrame\n",
            "\n",
            "See the caveats in the documentation: https://pandas.pydata.org/pandas-docs/stable/user_guide/indexing.html#returning-a-view-versus-a-copy\n",
            "  historical_data.rename(columns={'y': f\"{column}_value\"}, inplace=True)\n",
            "DEBUG:cmdstanpy:input tempfile: /tmp/tmpumruwf8i/z0wwblkp.json\n",
            "DEBUG:cmdstanpy:input tempfile: /tmp/tmpumruwf8i/2qiwfrg5.json\n",
            "DEBUG:cmdstanpy:idx 0\n",
            "DEBUG:cmdstanpy:running CmdStan, num_threads: None\n",
            "DEBUG:cmdstanpy:CmdStan args: ['/usr/local/lib/python3.10/dist-packages/prophet/stan_model/prophet_model.bin', 'random', 'seed=92252', 'data', 'file=/tmp/tmpumruwf8i/z0wwblkp.json', 'init=/tmp/tmpumruwf8i/2qiwfrg5.json', 'output', 'file=/tmp/tmpumruwf8i/prophet_modelspmzq3tc/prophet_model-20241124191506.csv', 'method=optimize', 'algorithm=lbfgs', 'iter=10000']\n",
            "19:15:06 - cmdstanpy - INFO - Chain [1] start processing\n",
            "INFO:cmdstanpy:Chain [1] start processing\n"
          ]
        },
        {
          "output_type": "stream",
          "name": "stdout",
          "text": [
            "Processing column: sol__usd_11_00am_london_price__index_value\n"
          ]
        },
        {
          "output_type": "stream",
          "name": "stderr",
          "text": [
            "19:15:06 - cmdstanpy - INFO - Chain [1] done processing\n",
            "INFO:cmdstanpy:Chain [1] done processing\n",
            "<ipython-input-2-8e091560cd07>:47: SettingWithCopyWarning: \n",
            "A value is trying to be set on a copy of a slice from a DataFrame.\n",
            "Try using .loc[row_indexer,col_indexer] = value instead\n",
            "\n",
            "See the caveats in the documentation: https://pandas.pydata.org/pandas-docs/stable/user_guide/indexing.html#returning-a-view-versus-a-copy\n",
            "  historical_data['type'] = 'historical'\n",
            "<ipython-input-2-8e091560cd07>:48: SettingWithCopyWarning: \n",
            "A value is trying to be set on a copy of a slice from a DataFrame\n",
            "\n",
            "See the caveats in the documentation: https://pandas.pydata.org/pandas-docs/stable/user_guide/indexing.html#returning-a-view-versus-a-copy\n",
            "  historical_data.rename(columns={'y': f\"{column}_value\"}, inplace=True)\n",
            "DEBUG:cmdstanpy:input tempfile: /tmp/tmpumruwf8i/u8h28kf6.json\n",
            "DEBUG:cmdstanpy:input tempfile: /tmp/tmpumruwf8i/btwtwd1s.json\n",
            "DEBUG:cmdstanpy:idx 0\n",
            "DEBUG:cmdstanpy:running CmdStan, num_threads: None\n",
            "DEBUG:cmdstanpy:CmdStan args: ['/usr/local/lib/python3.10/dist-packages/prophet/stan_model/prophet_model.bin', 'random', 'seed=65283', 'data', 'file=/tmp/tmpumruwf8i/u8h28kf6.json', 'init=/tmp/tmpumruwf8i/btwtwd1s.json', 'output', 'file=/tmp/tmpumruwf8i/prophet_model_mda9qlp/prophet_model-20241124191507.csv', 'method=optimize', 'algorithm=lbfgs', 'iter=10000']\n",
            "19:15:07 - cmdstanpy - INFO - Chain [1] start processing\n",
            "INFO:cmdstanpy:Chain [1] start processing\n"
          ]
        },
        {
          "output_type": "stream",
          "name": "stdout",
          "text": [
            "Processing column: sol__usd_4_00pm_new_york_price__index_value\n"
          ]
        },
        {
          "output_type": "stream",
          "name": "stderr",
          "text": [
            "19:15:08 - cmdstanpy - INFO - Chain [1] done processing\n",
            "INFO:cmdstanpy:Chain [1] done processing\n",
            "<ipython-input-2-8e091560cd07>:47: SettingWithCopyWarning: \n",
            "A value is trying to be set on a copy of a slice from a DataFrame.\n",
            "Try using .loc[row_indexer,col_indexer] = value instead\n",
            "\n",
            "See the caveats in the documentation: https://pandas.pydata.org/pandas-docs/stable/user_guide/indexing.html#returning-a-view-versus-a-copy\n",
            "  historical_data['type'] = 'historical'\n",
            "<ipython-input-2-8e091560cd07>:48: SettingWithCopyWarning: \n",
            "A value is trying to be set on a copy of a slice from a DataFrame\n",
            "\n",
            "See the caveats in the documentation: https://pandas.pydata.org/pandas-docs/stable/user_guide/indexing.html#returning-a-view-versus-a-copy\n",
            "  historical_data.rename(columns={'y': f\"{column}_value\"}, inplace=True)\n",
            "DEBUG:cmdstanpy:input tempfile: /tmp/tmpumruwf8i/6yc6k18t.json\n"
          ]
        },
        {
          "output_type": "stream",
          "name": "stdout",
          "text": [
            "Processing column: doge__usd_4_00pm_new_york_price__index_value\n"
          ]
        },
        {
          "output_type": "stream",
          "name": "stderr",
          "text": [
            "DEBUG:cmdstanpy:input tempfile: /tmp/tmpumruwf8i/ek6ayp81.json\n",
            "DEBUG:cmdstanpy:idx 0\n",
            "DEBUG:cmdstanpy:running CmdStan, num_threads: None\n",
            "DEBUG:cmdstanpy:CmdStan args: ['/usr/local/lib/python3.10/dist-packages/prophet/stan_model/prophet_model.bin', 'random', 'seed=15388', 'data', 'file=/tmp/tmpumruwf8i/6yc6k18t.json', 'init=/tmp/tmpumruwf8i/ek6ayp81.json', 'output', 'file=/tmp/tmpumruwf8i/prophet_modelus1a_3tr/prophet_model-20241124191509.csv', 'method=optimize', 'algorithm=lbfgs', 'iter=10000']\n",
            "19:15:09 - cmdstanpy - INFO - Chain [1] start processing\n",
            "INFO:cmdstanpy:Chain [1] start processing\n",
            "19:15:10 - cmdstanpy - INFO - Chain [1] done processing\n",
            "INFO:cmdstanpy:Chain [1] done processing\n",
            "<ipython-input-2-8e091560cd07>:47: SettingWithCopyWarning: \n",
            "A value is trying to be set on a copy of a slice from a DataFrame.\n",
            "Try using .loc[row_indexer,col_indexer] = value instead\n",
            "\n",
            "See the caveats in the documentation: https://pandas.pydata.org/pandas-docs/stable/user_guide/indexing.html#returning-a-view-versus-a-copy\n",
            "  historical_data['type'] = 'historical'\n",
            "<ipython-input-2-8e091560cd07>:48: SettingWithCopyWarning: \n",
            "A value is trying to be set on a copy of a slice from a DataFrame\n",
            "\n",
            "See the caveats in the documentation: https://pandas.pydata.org/pandas-docs/stable/user_guide/indexing.html#returning-a-view-versus-a-copy\n",
            "  historical_data.rename(columns={'y': f\"{column}_value\"}, inplace=True)\n",
            "DEBUG:cmdstanpy:input tempfile: /tmp/tmpumruwf8i/c208y7zm.json\n"
          ]
        },
        {
          "output_type": "stream",
          "name": "stdout",
          "text": [
            "Processing column: doge__usd_11_00am_london_price__index_value\n"
          ]
        },
        {
          "output_type": "stream",
          "name": "stderr",
          "text": [
            "DEBUG:cmdstanpy:input tempfile: /tmp/tmpumruwf8i/h_dpg04g.json\n",
            "DEBUG:cmdstanpy:idx 0\n",
            "DEBUG:cmdstanpy:running CmdStan, num_threads: None\n",
            "DEBUG:cmdstanpy:CmdStan args: ['/usr/local/lib/python3.10/dist-packages/prophet/stan_model/prophet_model.bin', 'random', 'seed=6923', 'data', 'file=/tmp/tmpumruwf8i/c208y7zm.json', 'init=/tmp/tmpumruwf8i/h_dpg04g.json', 'output', 'file=/tmp/tmpumruwf8i/prophet_modelw_mttr61/prophet_model-20241124191511.csv', 'method=optimize', 'algorithm=lbfgs', 'iter=10000']\n",
            "19:15:11 - cmdstanpy - INFO - Chain [1] start processing\n",
            "INFO:cmdstanpy:Chain [1] start processing\n",
            "19:15:14 - cmdstanpy - INFO - Chain [1] done processing\n",
            "INFO:cmdstanpy:Chain [1] done processing\n",
            "<ipython-input-2-8e091560cd07>:47: SettingWithCopyWarning: \n",
            "A value is trying to be set on a copy of a slice from a DataFrame.\n",
            "Try using .loc[row_indexer,col_indexer] = value instead\n",
            "\n",
            "See the caveats in the documentation: https://pandas.pydata.org/pandas-docs/stable/user_guide/indexing.html#returning-a-view-versus-a-copy\n",
            "  historical_data['type'] = 'historical'\n",
            "<ipython-input-2-8e091560cd07>:48: SettingWithCopyWarning: \n",
            "A value is trying to be set on a copy of a slice from a DataFrame\n",
            "\n",
            "See the caveats in the documentation: https://pandas.pydata.org/pandas-docs/stable/user_guide/indexing.html#returning-a-view-versus-a-copy\n",
            "  historical_data.rename(columns={'y': f\"{column}_value\"}, inplace=True)\n",
            "DEBUG:cmdstanpy:input tempfile: /tmp/tmpumruwf8i/vp5c15ye.json\n"
          ]
        },
        {
          "output_type": "stream",
          "name": "stdout",
          "text": [
            "Processing column: doge__current_supply_native_units\n"
          ]
        },
        {
          "output_type": "stream",
          "name": "stderr",
          "text": [
            "DEBUG:cmdstanpy:input tempfile: /tmp/tmpumruwf8i/n_loytft.json\n",
            "DEBUG:cmdstanpy:idx 0\n",
            "DEBUG:cmdstanpy:running CmdStan, num_threads: None\n",
            "DEBUG:cmdstanpy:CmdStan args: ['/usr/local/lib/python3.10/dist-packages/prophet/stan_model/prophet_model.bin', 'random', 'seed=74255', 'data', 'file=/tmp/tmpumruwf8i/vp5c15ye.json', 'init=/tmp/tmpumruwf8i/n_loytft.json', 'output', 'file=/tmp/tmpumruwf8i/prophet_modely9qar0fj/prophet_model-20241124191515.csv', 'method=optimize', 'algorithm=lbfgs', 'iter=10000']\n",
            "19:15:15 - cmdstanpy - INFO - Chain [1] start processing\n",
            "INFO:cmdstanpy:Chain [1] start processing\n",
            "19:15:16 - cmdstanpy - INFO - Chain [1] done processing\n",
            "INFO:cmdstanpy:Chain [1] done processing\n",
            "<ipython-input-2-8e091560cd07>:47: SettingWithCopyWarning: \n",
            "A value is trying to be set on a copy of a slice from a DataFrame.\n",
            "Try using .loc[row_indexer,col_indexer] = value instead\n",
            "\n",
            "See the caveats in the documentation: https://pandas.pydata.org/pandas-docs/stable/user_guide/indexing.html#returning-a-view-versus-a-copy\n",
            "  historical_data['type'] = 'historical'\n",
            "<ipython-input-2-8e091560cd07>:48: SettingWithCopyWarning: \n",
            "A value is trying to be set on a copy of a slice from a DataFrame\n",
            "\n",
            "See the caveats in the documentation: https://pandas.pydata.org/pandas-docs/stable/user_guide/indexing.html#returning-a-view-versus-a-copy\n",
            "  historical_data.rename(columns={'y': f\"{column}_value\"}, inplace=True)\n",
            "DEBUG:cmdstanpy:input tempfile: /tmp/tmpumruwf8i/apr80ck8.json\n"
          ]
        },
        {
          "output_type": "stream",
          "name": "stdout",
          "text": [
            "Processing column: doge__market_cap_usd\n"
          ]
        },
        {
          "output_type": "stream",
          "name": "stderr",
          "text": [
            "DEBUG:cmdstanpy:input tempfile: /tmp/tmpumruwf8i/c22ky8dg.json\n",
            "DEBUG:cmdstanpy:idx 0\n",
            "DEBUG:cmdstanpy:running CmdStan, num_threads: None\n",
            "DEBUG:cmdstanpy:CmdStan args: ['/usr/local/lib/python3.10/dist-packages/prophet/stan_model/prophet_model.bin', 'random', 'seed=53225', 'data', 'file=/tmp/tmpumruwf8i/apr80ck8.json', 'init=/tmp/tmpumruwf8i/c22ky8dg.json', 'output', 'file=/tmp/tmpumruwf8i/prophet_modeln79i2z8_/prophet_model-20241124191517.csv', 'method=optimize', 'algorithm=lbfgs', 'iter=10000']\n",
            "19:15:17 - cmdstanpy - INFO - Chain [1] start processing\n",
            "INFO:cmdstanpy:Chain [1] start processing\n",
            "19:15:18 - cmdstanpy - INFO - Chain [1] done processing\n",
            "INFO:cmdstanpy:Chain [1] done processing\n",
            "<ipython-input-2-8e091560cd07>:47: SettingWithCopyWarning: \n",
            "A value is trying to be set on a copy of a slice from a DataFrame.\n",
            "Try using .loc[row_indexer,col_indexer] = value instead\n",
            "\n",
            "See the caveats in the documentation: https://pandas.pydata.org/pandas-docs/stable/user_guide/indexing.html#returning-a-view-versus-a-copy\n",
            "  historical_data['type'] = 'historical'\n",
            "<ipython-input-2-8e091560cd07>:48: SettingWithCopyWarning: \n",
            "A value is trying to be set on a copy of a slice from a DataFrame\n",
            "\n",
            "See the caveats in the documentation: https://pandas.pydata.org/pandas-docs/stable/user_guide/indexing.html#returning-a-view-versus-a-copy\n",
            "  historical_data.rename(columns={'y': f\"{column}_value\"}, inplace=True)\n",
            "DEBUG:cmdstanpy:input tempfile: /tmp/tmpumruwf8i/82364g_4.json\n"
          ]
        },
        {
          "output_type": "stream",
          "name": "stdout",
          "text": [
            "Processing column: trx__market_cap_usd\n"
          ]
        },
        {
          "output_type": "stream",
          "name": "stderr",
          "text": [
            "DEBUG:cmdstanpy:input tempfile: /tmp/tmpumruwf8i/fye4l1rk.json\n",
            "DEBUG:cmdstanpy:idx 0\n",
            "DEBUG:cmdstanpy:running CmdStan, num_threads: None\n",
            "DEBUG:cmdstanpy:CmdStan args: ['/usr/local/lib/python3.10/dist-packages/prophet/stan_model/prophet_model.bin', 'random', 'seed=93368', 'data', 'file=/tmp/tmpumruwf8i/82364g_4.json', 'init=/tmp/tmpumruwf8i/fye4l1rk.json', 'output', 'file=/tmp/tmpumruwf8i/prophet_modelcjb87rj6/prophet_model-20241124191519.csv', 'method=optimize', 'algorithm=lbfgs', 'iter=10000']\n",
            "19:15:19 - cmdstanpy - INFO - Chain [1] start processing\n",
            "INFO:cmdstanpy:Chain [1] start processing\n",
            "19:15:20 - cmdstanpy - INFO - Chain [1] done processing\n",
            "INFO:cmdstanpy:Chain [1] done processing\n",
            "<ipython-input-2-8e091560cd07>:47: SettingWithCopyWarning: \n",
            "A value is trying to be set on a copy of a slice from a DataFrame.\n",
            "Try using .loc[row_indexer,col_indexer] = value instead\n",
            "\n",
            "See the caveats in the documentation: https://pandas.pydata.org/pandas-docs/stable/user_guide/indexing.html#returning-a-view-versus-a-copy\n",
            "  historical_data['type'] = 'historical'\n",
            "<ipython-input-2-8e091560cd07>:48: SettingWithCopyWarning: \n",
            "A value is trying to be set on a copy of a slice from a DataFrame\n",
            "\n",
            "See the caveats in the documentation: https://pandas.pydata.org/pandas-docs/stable/user_guide/indexing.html#returning-a-view-versus-a-copy\n",
            "  historical_data.rename(columns={'y': f\"{column}_value\"}, inplace=True)\n"
          ]
        },
        {
          "output_type": "stream",
          "name": "stdout",
          "text": [
            "Processing column: trx__current_supply_native_units\n"
          ]
        },
        {
          "output_type": "stream",
          "name": "stderr",
          "text": [
            "<ipython-input-2-8e091560cd07>:47: SettingWithCopyWarning: \n",
            "A value is trying to be set on a copy of a slice from a DataFrame.\n",
            "Try using .loc[row_indexer,col_indexer] = value instead\n",
            "\n",
            "See the caveats in the documentation: https://pandas.pydata.org/pandas-docs/stable/user_guide/indexing.html#returning-a-view-versus-a-copy\n",
            "  historical_data['type'] = 'historical'\n",
            "<ipython-input-2-8e091560cd07>:48: SettingWithCopyWarning: \n",
            "A value is trying to be set on a copy of a slice from a DataFrame\n",
            "\n",
            "See the caveats in the documentation: https://pandas.pydata.org/pandas-docs/stable/user_guide/indexing.html#returning-a-view-versus-a-copy\n",
            "  historical_data.rename(columns={'y': f\"{column}_value\"}, inplace=True)\n",
            "DEBUG:cmdstanpy:input tempfile: /tmp/tmpumruwf8i/oms45y0x.json\n"
          ]
        },
        {
          "output_type": "stream",
          "name": "stdout",
          "text": [
            "Processing column: trx__usd_4_00pm_new_york_price__index_value\n"
          ]
        },
        {
          "output_type": "stream",
          "name": "stderr",
          "text": [
            "DEBUG:cmdstanpy:input tempfile: /tmp/tmpumruwf8i/_4ss__22.json\n",
            "DEBUG:cmdstanpy:idx 0\n",
            "DEBUG:cmdstanpy:running CmdStan, num_threads: None\n",
            "DEBUG:cmdstanpy:CmdStan args: ['/usr/local/lib/python3.10/dist-packages/prophet/stan_model/prophet_model.bin', 'random', 'seed=19930', 'data', 'file=/tmp/tmpumruwf8i/oms45y0x.json', 'init=/tmp/tmpumruwf8i/_4ss__22.json', 'output', 'file=/tmp/tmpumruwf8i/prophet_modelunr_mw_n/prophet_model-20241124191522.csv', 'method=optimize', 'algorithm=lbfgs', 'iter=10000']\n",
            "19:15:22 - cmdstanpy - INFO - Chain [1] start processing\n",
            "INFO:cmdstanpy:Chain [1] start processing\n",
            "19:15:23 - cmdstanpy - INFO - Chain [1] done processing\n",
            "INFO:cmdstanpy:Chain [1] done processing\n",
            "<ipython-input-2-8e091560cd07>:47: SettingWithCopyWarning: \n",
            "A value is trying to be set on a copy of a slice from a DataFrame.\n",
            "Try using .loc[row_indexer,col_indexer] = value instead\n",
            "\n",
            "See the caveats in the documentation: https://pandas.pydata.org/pandas-docs/stable/user_guide/indexing.html#returning-a-view-versus-a-copy\n",
            "  historical_data['type'] = 'historical'\n",
            "<ipython-input-2-8e091560cd07>:48: SettingWithCopyWarning: \n",
            "A value is trying to be set on a copy of a slice from a DataFrame\n",
            "\n",
            "See the caveats in the documentation: https://pandas.pydata.org/pandas-docs/stable/user_guide/indexing.html#returning-a-view-versus-a-copy\n",
            "  historical_data.rename(columns={'y': f\"{column}_value\"}, inplace=True)\n",
            "DEBUG:cmdstanpy:input tempfile: /tmp/tmpumruwf8i/yi_dsqvy.json\n"
          ]
        },
        {
          "output_type": "stream",
          "name": "stdout",
          "text": [
            "Processing column: trx__usd_11_00am_london_price__index_value\n"
          ]
        },
        {
          "output_type": "stream",
          "name": "stderr",
          "text": [
            "DEBUG:cmdstanpy:input tempfile: /tmp/tmpumruwf8i/1zzp2shh.json\n",
            "DEBUG:cmdstanpy:idx 0\n",
            "DEBUG:cmdstanpy:running CmdStan, num_threads: None\n",
            "DEBUG:cmdstanpy:CmdStan args: ['/usr/local/lib/python3.10/dist-packages/prophet/stan_model/prophet_model.bin', 'random', 'seed=65361', 'data', 'file=/tmp/tmpumruwf8i/yi_dsqvy.json', 'init=/tmp/tmpumruwf8i/1zzp2shh.json', 'output', 'file=/tmp/tmpumruwf8i/prophet_modelcl6j7sot/prophet_model-20241124191524.csv', 'method=optimize', 'algorithm=lbfgs', 'iter=10000']\n",
            "19:15:24 - cmdstanpy - INFO - Chain [1] start processing\n",
            "INFO:cmdstanpy:Chain [1] start processing\n",
            "19:15:25 - cmdstanpy - INFO - Chain [1] done processing\n",
            "INFO:cmdstanpy:Chain [1] done processing\n",
            "<ipython-input-2-8e091560cd07>:47: SettingWithCopyWarning: \n",
            "A value is trying to be set on a copy of a slice from a DataFrame.\n",
            "Try using .loc[row_indexer,col_indexer] = value instead\n",
            "\n",
            "See the caveats in the documentation: https://pandas.pydata.org/pandas-docs/stable/user_guide/indexing.html#returning-a-view-versus-a-copy\n",
            "  historical_data['type'] = 'historical'\n",
            "<ipython-input-2-8e091560cd07>:48: SettingWithCopyWarning: \n",
            "A value is trying to be set on a copy of a slice from a DataFrame\n",
            "\n",
            "See the caveats in the documentation: https://pandas.pydata.org/pandas-docs/stable/user_guide/indexing.html#returning-a-view-versus-a-copy\n",
            "  historical_data.rename(columns={'y': f\"{column}_value\"}, inplace=True)\n"
          ]
        },
        {
          "output_type": "stream",
          "name": "stdout",
          "text": [
            "Combined historical and next year predictions saved to 'prophet_forecasts/prophet_historical_and_next_year.csv'.\n",
            "All forecast plots saved in the folder: 'prophet_forecasts'.\n"
          ]
        }
      ]
    },
    {
      "cell_type": "code",
      "source": [
        "!zip -r /content/prophet_forecasts.zip /content/prophet_forecasts"
      ],
      "metadata": {
        "collapsed": true,
        "id": "K7njkJ53nERb"
      },
      "execution_count": null,
      "outputs": []
    }
  ]
}